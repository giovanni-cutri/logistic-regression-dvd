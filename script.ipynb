{
 "cells": [
  {
   "cell_type": "markdown",
   "id": "92da3cc6-142a-4d48-8a68-aa6da502eed2",
   "metadata": {},
   "source": [
    "# Logistic Regression"
   ]
  },
  {
   "cell_type": "markdown",
   "id": "39efa3dc-a3b2-463b-ab45-587f4f0dee10",
   "metadata": {},
   "source": [
    "## Theoretical Introduction"
   ]
  },
  {
   "cell_type": "markdown",
   "id": "829da147-4912-4dfe-a76b-b2abc5df2f7e",
   "metadata": {},
   "source": [
    "Logistic regression is a type of regression used when the response variable *y* is not continuous in nature, but dichotomous: it can only take on two values."
   ]
  },
  {
   "cell_type": "markdown",
   "id": "2ac412f7-76a0-4567-ada3-8a7907383d3a",
   "metadata": {},
   "source": [
    "More generally, while a classic regression model assumes that the response variable follows a normal distribution, in a generalized linear model its distribution could be any other: in the case of logistic regression, it's the Bernoulli distribution. A random variable with a Bernoulli distribution can take on two values only, which we can numerically encode as 0 or 1, and the only parameter is *p*, the probability of success, that is the probability that the random variable takes on the value 1."
   ]
  },
  {
   "cell_type": "markdown",
   "id": "af6542a6-b992-4c6b-a242-585c8b0db44b",
   "metadata": {},
   "source": [
    "The coefficients of the explanatory variables estimated in a logistic regression give important indications regarding how the values of the regressors affect the value taken by *y*. Their interpretation is a bit different from the classic regression, though, for the following reason: since the values of a linear combination of the regressors with the coefficients can take on any real value, this model is not adequate to accurately describe the values taken on by *y*. To solve this problem, the linear combination gets modified by the *logistic function*, which normalizes its value so that it is included between 0 and 1."
   ]
  },
  {
   "cell_type": "markdown",
   "id": "687b5713-6ae6-4f7c-9c64-0868fb6a5a9e",
   "metadata": {},
   "source": [
    "With these assumptions, for each unit increase in the value of a regressor, the odds of success vary by *e<sup>$\\beta$</sup>*, where $\\beta$ is the corresponding coefficient. Thus, given a positive coefficient, the variation will increase the chance of success, pushing the explained variable to a value closer to 1; conversely, given a negative coefficient, the variation will decrease the chance of success, pushing the explained variable to a value more distant to 1."
   ]
  },
  {
   "cell_type": "markdown",
   "id": "593403ca-7613-4e59-bb95-14e853160b03",
   "metadata": {},
   "source": [
    "## Business Application - DVD purchase predictions"
   ]
  },
  {
   "cell_type": "markdown",
   "id": "821ff4a4-c9d7-4ff0-a10e-5b272024dd59",
   "metadata": {},
   "source": [
    "In a business setting, logistic regression can be very useful to analyze how a set of variables affects a certain outcome, like the purchase of a product. Let's see a basic example using a dataset regarding DVD sellings."
   ]
  },
  {
   "cell_type": "code",
   "execution_count": 1,
   "id": "6fa7b1cf-9c3d-479c-ad91-0662bba327ee",
   "metadata": {},
   "outputs": [
    {
     "name": "stdout",
     "output_type": "stream",
     "text": [
      "'data.frame':\t20000 obs. of  4 variables:\n",
      " $ buy   : chr  \"yes\" \"no\" \"no\" \"no\" ...\n",
      " $ coupon: int  5 5 4 3 1 5 2 4 3 5 ...\n",
      " $ purch : int  2 2 11 5 1 10 1 6 9 2 ...\n",
      " $ last  : int  5 33 11 25 15 27 11 25 3 27 ...\n"
     ]
    }
   ],
   "source": [
    "data <- read.csv(\"dvd.csv\")\n",
    "data$training <- NULL\n",
    "str(data)"
   ]
  },
  {
   "cell_type": "code",
   "execution_count": 2,
   "id": "6777811f-0b89-4fd4-8cc1-85fa8fd13a85",
   "metadata": {},
   "outputs": [
    {
     "data": {
      "text/html": [
       "<table class=\"dataframe\">\n",
       "<caption>A data.frame: 6 × 4</caption>\n",
       "<thead>\n",
       "\t<tr><th></th><th scope=col>buy</th><th scope=col>coupon</th><th scope=col>purch</th><th scope=col>last</th></tr>\n",
       "\t<tr><th></th><th scope=col>&lt;chr&gt;</th><th scope=col>&lt;int&gt;</th><th scope=col>&lt;int&gt;</th><th scope=col>&lt;int&gt;</th></tr>\n",
       "</thead>\n",
       "<tbody>\n",
       "\t<tr><th scope=row>1</th><td>yes</td><td>5</td><td> 2</td><td> 5</td></tr>\n",
       "\t<tr><th scope=row>2</th><td>no </td><td>5</td><td> 2</td><td>33</td></tr>\n",
       "\t<tr><th scope=row>3</th><td>no </td><td>4</td><td>11</td><td>11</td></tr>\n",
       "\t<tr><th scope=row>4</th><td>no </td><td>3</td><td> 5</td><td>25</td></tr>\n",
       "\t<tr><th scope=row>5</th><td>no </td><td>1</td><td> 1</td><td>15</td></tr>\n",
       "\t<tr><th scope=row>6</th><td>no </td><td>5</td><td>10</td><td>27</td></tr>\n",
       "</tbody>\n",
       "</table>\n"
      ],
      "text/latex": [
       "A data.frame: 6 × 4\n",
       "\\begin{tabular}{r|llll}\n",
       "  & buy & coupon & purch & last\\\\\n",
       "  & <chr> & <int> & <int> & <int>\\\\\n",
       "\\hline\n",
       "\t1 & yes & 5 &  2 &  5\\\\\n",
       "\t2 & no  & 5 &  2 & 33\\\\\n",
       "\t3 & no  & 4 & 11 & 11\\\\\n",
       "\t4 & no  & 3 &  5 & 25\\\\\n",
       "\t5 & no  & 1 &  1 & 15\\\\\n",
       "\t6 & no  & 5 & 10 & 27\\\\\n",
       "\\end{tabular}\n"
      ],
      "text/markdown": [
       "\n",
       "A data.frame: 6 × 4\n",
       "\n",
       "| <!--/--> | buy &lt;chr&gt; | coupon &lt;int&gt; | purch &lt;int&gt; | last &lt;int&gt; |\n",
       "|---|---|---|---|---|\n",
       "| 1 | yes | 5 |  2 |  5 |\n",
       "| 2 | no  | 5 |  2 | 33 |\n",
       "| 3 | no  | 4 | 11 | 11 |\n",
       "| 4 | no  | 3 |  5 | 25 |\n",
       "| 5 | no  | 1 |  1 | 15 |\n",
       "| 6 | no  | 5 | 10 | 27 |\n",
       "\n"
      ],
      "text/plain": [
       "  buy coupon purch last\n",
       "1 yes 5       2     5  \n",
       "2 no  5       2    33  \n",
       "3 no  4      11    11  \n",
       "4 no  3       5    25  \n",
       "5 no  1       1    15  \n",
       "6 no  5      10    27  "
      ]
     },
     "metadata": {},
     "output_type": "display_data"
    }
   ],
   "source": [
    "head(data)"
   ]
  },
  {
   "cell_type": "markdown",
   "id": "1748f5d3-2b99-46ca-8cf7-7d1016c49017",
   "metadata": {},
   "source": [
    "Data contains information on a sample of 20,000 customers who received an instant coupon, with a value between $1 and $5 chosen at random.\n",
    "\n",
    "Other explanatory variables include *purch*, which is the number of purchases by the customer in the past year, and *last*, which is the number of days passed since the last purchase by the customer.\n",
    "\n",
    "The response variable is *buy*, which takes on the value *yes* if the customer decided to buy the DVD and *no* otherwise.\n",
    "\n",
    "Let's estimate a logistic regression model to investigate the effects of the explanatory variables in determining the purchase of the DVD."
   ]
  },
  {
   "cell_type": "code",
   "execution_count": 3,
   "id": "b5cb313a-6f94-4ab6-8f1c-8b9bcbdf671b",
   "metadata": {},
   "outputs": [],
   "source": [
    "data$buy <- ifelse(data$buy == \"yes\", 1, 0)\n",
    "logistic_model <- glm(buy ~ coupon + purch + last, data = data, family = \"binomial\")"
   ]
  },
  {
   "cell_type": "code",
   "execution_count": 4,
   "id": "936e9947-fcac-45c5-9639-b955be65dc3a",
   "metadata": {},
   "outputs": [
    {
     "data": {
      "text/plain": [
       "\n",
       "Call:\n",
       "glm(formula = buy ~ coupon + purch + last, family = \"binomial\", \n",
       "    data = data)\n",
       "\n",
       "Deviance Residuals: \n",
       "    Min       1Q   Median       3Q      Max  \n",
       "-2.0010  -0.7065  -0.4173   0.7215   3.0337  \n",
       "\n",
       "Coefficients:\n",
       "             Estimate Std. Error z value Pr(>|z|)    \n",
       "(Intercept) -3.037797   0.063109  -48.14   <2e-16 ***\n",
       "coupon       0.774109   0.015108   51.24   <2e-16 ***\n",
       "purch        0.091110   0.005096   17.88   <2e-16 ***\n",
       "last        -0.069112   0.001953  -35.39   <2e-16 ***\n",
       "---\n",
       "Signif. codes:  0 '***' 0.001 '**' 0.01 '*' 0.05 '.' 0.1 ' ' 1\n",
       "\n",
       "(Dispersion parameter for binomial family taken to be 1)\n",
       "\n",
       "    Null deviance: 23018  on 19999  degrees of freedom\n",
       "Residual deviance: 18221  on 19996  degrees of freedom\n",
       "AIC: 18229\n",
       "\n",
       "Number of Fisher Scoring iterations: 5\n"
      ]
     },
     "metadata": {},
     "output_type": "display_data"
    }
   ],
   "source": [
    "summary(logistic_model)"
   ]
  },
  {
   "cell_type": "markdown",
   "id": "2f4b7ec2-c79c-4b4b-972a-cd891a4d2d32",
   "metadata": {},
   "source": [
    "Here is our model. All of the coefficients of the explanatory variables are significative, which is a good thing. Looking at their sign, we can see that they totally make sense: increasing the value of the coupon increases the probability of purchase, holding all other variables constant; the more DVDs a customer has purchased in the last year, meaning they are a usual client, the more the probability that they purchase the DVD increases; and finally, the more days have passed since the last purchase, meaning that the customer has somewhat lost interest in our products, the less likely they are to buy the DVD."
   ]
  }
 ],
 "metadata": {
  "kernelspec": {
   "display_name": "R",
   "language": "R",
   "name": "ir"
  },
  "language_info": {
   "codemirror_mode": "r",
   "file_extension": ".r",
   "mimetype": "text/x-r-source",
   "name": "R",
   "pygments_lexer": "r",
   "version": "4.2.2"
  }
 },
 "nbformat": 4,
 "nbformat_minor": 5
}
